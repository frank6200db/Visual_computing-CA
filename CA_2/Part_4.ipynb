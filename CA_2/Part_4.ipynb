{
 "cells": [
  {
   "cell_type": "markdown",
   "metadata": {},
   "source": [
    "Part 4: Depth from Video -- Basic\n"
   ]
  },
  {
   "cell_type": "code",
   "execution_count": 1,
   "metadata": {},
   "outputs": [
    {
     "name": "stderr",
     "output_type": "stream",
     "text": [
      "/home/frank62/miniconda3/envs/depth/lib/python3.9/site-packages/gco/__init__.py:7: FutureWarning: In the future `np.bool` will be defined as the corresponding NumPy scalar.\n",
      "  if not hasattr(numpy, name):\n"
     ]
    }
   ],
   "source": [
    "import cv2\n",
    "import numpy as np\n",
    "import matplotlib.pyplot as plt\n",
    "import gco \n",
    "import numpy as np"
   ]
  },
  {
   "cell_type": "code",
   "execution_count": 46,
   "metadata": {},
   "outputs": [
    {
     "name": "stdout",
     "output_type": "stream",
     "text": [
      "(141, 540, 960, 3)\n"
     ]
    }
   ],
   "source": [
    "image_list=[]\n",
    "for i in range (141):\n",
    "    image=cv2.imread(f'./Road/Road/src/test{i:04d}.jpg',cv2.IMREAD_COLOR)\n",
    "    image=cv2.cvtColor(image, cv2.COLOR_BGR2RGB)\n",
    "    image_list.append(image)\n",
    "image_list=np.array(image_list)\n",
    "print(image_list.shape)\n",
    "\n",
    "camera_nums=1\n",
    "K= []\n",
    "R= []\n",
    "T= []\n",
    "\n",
    "with open('./Road/Road/cameras.txt', 'r') as file:\n",
    "    while camera_nums<=141:\n",
    "        K_temp=[]\n",
    "        lines = [next(file) for _ in range(9)]  \n",
    "        camera_nums+=1\n",
    "        if not lines:\n",
    "            break \n",
    "        k= np.array([float(i) for line in lines[2:5] for i in  line.split()], dtype=float)\n",
    "        k=k.reshape(3,3)\n",
    "        K.append(k)\n",
    "        r= np.array([float(i) for line in lines[5:8] for i in  line.split()], dtype=float)\n",
    "        r=r.reshape(3,3)\n",
    "        R.append(r)    \n",
    "        t= np.array([float(i) for i in lines[8].split()], dtype=float)\n",
    "        t=t.reshape(3,1)\n",
    "        T.append(t)    \n",
    "        \n",
    "        "
   ]
  },
  {
   "cell_type": "code",
   "execution_count": 48,
   "metadata": {},
   "outputs": [
    {
     "data": {
      "text/plain": [
       "array([[-1.05436523],\n",
       "       [ 0.03310493],\n",
       "       [ 0.12152786]])"
      ]
     },
     "execution_count": 48,
     "metadata": {},
     "output_type": "execute_result"
    }
   ],
   "source": [
    "T[1]"
   ]
  }
 ],
 "metadata": {
  "kernelspec": {
   "display_name": "depth",
   "language": "python",
   "name": "python3"
  },
  "language_info": {
   "codemirror_mode": {
    "name": "ipython",
    "version": 3
   },
   "file_extension": ".py",
   "mimetype": "text/x-python",
   "name": "python",
   "nbconvert_exporter": "python",
   "pygments_lexer": "ipython3",
   "version": "3.9.18"
  }
 },
 "nbformat": 4,
 "nbformat_minor": 2
}
