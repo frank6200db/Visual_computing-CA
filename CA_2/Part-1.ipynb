{
 "cells": [
  {
   "cell_type": "markdown",
   "metadata": {},
   "source": [
    "Part 1: Noise Removal\n",
    "\n",
    "pip install gco-wrapper 3.0.9\n",
    "\n",
    "pip install opencv- python ,\n",
    "\n",
    "(1) Write a python program to clean up the noise of the image in Figure 1, by employing an MRF and the binary graphcuts. "
   ]
  },
  {
   "cell_type": "code",
   "execution_count": 2,
   "metadata": {},
   "outputs": [],
   "source": [
    "import cv2\n",
    "import numpy as np\n",
    "import matplotlib.pyplot as plt\n",
    "import gco \n",
    "\n",
    "m_lambda=200\n",
    "\n",
    "N_image = cv2.imread('./Figure1.png')\n",
    "source= np.array([0,0,255])\n",
    "sink=np.array([245, 210, 110])\n",
    "\n",
    "def denoise(N_image, source, sink, m_lambda):\n",
    "    h, w, d = N_image.shape\n",
    "    Mkf=np.zeros([h, w, 2])"
   ]
  },
  {
   "cell_type": "code",
   "execution_count": null,
   "metadata": {},
   "outputs": [],
   "source": []
  }
 ],
 "metadata": {
  "kernelspec": {
   "display_name": "pyt2",
   "language": "python",
   "name": "python3"
  },
  "language_info": {
   "codemirror_mode": {
    "name": "ipython",
    "version": 3
   },
   "file_extension": ".py",
   "mimetype": "text/x-python",
   "name": "python",
   "nbconvert_exporter": "python",
   "pygments_lexer": "ipython3",
   "version": "3.9.18"
  }
 },
 "nbformat": 4,
 "nbformat_minor": 2
}
